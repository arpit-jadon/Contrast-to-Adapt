{
 "cells": [
  {
   "cell_type": "code",
   "execution_count": 1,
   "id": "fde28d59-a785-434b-97cf-5230e040b09e",
   "metadata": {},
   "outputs": [],
   "source": [
    "import json\n",
    "import pickle\n",
    "from scipy.io import loadmat\n",
    "import numpy as np\n",
    "from scipy.io import loadmat\n",
    "import numpy as np\n",
    "import matplotlib.pyplot as plt\n",
    "import json\n",
    "import gzip"
   ]
  },
  {
   "cell_type": "code",
   "execution_count": 2,
   "id": "b1483027-0dbf-47e8-a993-a6ac18a0368d",
   "metadata": {},
   "outputs": [
    {
     "ename": "FileNotFoundError",
     "evalue": "[Errno 2] No such file or directory: './cifar-10/0.80_sym.json'",
     "output_type": "error",
     "traceback": [
      "\u001b[0;31m---------------------------------------------------------------------------\u001b[0m",
      "\u001b[0;31mFileNotFoundError\u001b[0m                         Traceback (most recent call last)",
      "\u001b[0;32m<ipython-input-2-d3b004c6e9a9>\u001b[0m in \u001b[0;36m<module>\u001b[0;34m\u001b[0m\n\u001b[0;32m----> 1\u001b[0;31m \u001b[0;32mwith\u001b[0m \u001b[0mopen\u001b[0m\u001b[0;34m(\u001b[0m\u001b[0;34m'./cifar-10/0.80_sym.json'\u001b[0m\u001b[0;34m)\u001b[0m \u001b[0;32mas\u001b[0m \u001b[0mf\u001b[0m\u001b[0;34m:\u001b[0m\u001b[0;34m\u001b[0m\u001b[0;34m\u001b[0m\u001b[0m\n\u001b[0m\u001b[1;32m      2\u001b[0m   \u001b[0mdata\u001b[0m \u001b[0;34m=\u001b[0m \u001b[0mjson\u001b[0m\u001b[0;34m.\u001b[0m\u001b[0mload\u001b[0m\u001b[0;34m(\u001b[0m\u001b[0mf\u001b[0m\u001b[0;34m)\u001b[0m\u001b[0;34m\u001b[0m\u001b[0;34m\u001b[0m\u001b[0m\n",
      "\u001b[0;31mFileNotFoundError\u001b[0m: [Errno 2] No such file or directory: './cifar-10/0.80_sym.json'"
     ]
    }
   ],
   "source": [
    "with open('./cifar-10/0.80_sym.json') as f:\n",
    "  data = json.load(f)"
   ]
  },
  {
   "cell_type": "code",
   "execution_count": 3,
   "id": "942f1440-6a45-42a3-8c3a-9c41a922344e",
   "metadata": {},
   "outputs": [
    {
     "data": {
      "text/plain": [
       "50000"
      ]
     },
     "execution_count": 3,
     "metadata": {},
     "output_type": "execute_result"
    }
   ],
   "source": [
    "len(data)"
   ]
  },
  {
   "cell_type": "code",
   "execution_count": 4,
   "id": "5f2e4077-0ed6-4be1-abbd-2f302da5993a",
   "metadata": {
    "scrolled": true,
    "tags": []
   },
   "outputs": [],
   "source": [
    "data_extra = np.random.randint(low=0, high=10, size=5000).tolist()"
   ]
  },
  {
   "cell_type": "code",
   "execution_count": 8,
   "id": "268cdbf0-d2f5-49b1-b2e6-741345b3a3d1",
   "metadata": {},
   "outputs": [],
   "source": [
    "new_data = data + data_extra"
   ]
  },
  {
   "cell_type": "code",
   "execution_count": 9,
   "id": "04ed1b5f-50a7-4f17-a079-32117afe5d62",
   "metadata": {},
   "outputs": [
    {
     "data": {
      "text/plain": [
       "55000"
      ]
     },
     "execution_count": 9,
     "metadata": {},
     "output_type": "execute_result"
    }
   ],
   "source": [
    "len(new_data)"
   ]
  },
  {
   "cell_type": "code",
   "execution_count": 10,
   "id": "3d28be29-a9ea-4a3f-8bc7-c71c6debf00d",
   "metadata": {},
   "outputs": [],
   "source": [
    "with open('data.json', 'w') as f:\n",
    "    json.dump(new_data, f)"
   ]
  },
  {
   "cell_type": "code",
   "execution_count": null,
   "id": "5f9d3bdd-4429-4289-b0c0-557295027490",
   "metadata": {},
   "outputs": [],
   "source": [
    "def unpickle(file):\n",
    "    import _pickle as cPickle\n",
    "    with open(file, 'rb') as fo:\n",
    "        dict = cPickle.load(fo, encoding='latin1')\n",
    "    return dict\n"
   ]
  },
  {
   "cell_type": "code",
   "execution_count": null,
   "id": "ca94c095-3018-48b2-8188-3a5c5acee71b",
   "metadata": {},
   "outputs": [],
   "source": [
    "test_dic = unpickle('%s/test_batch' % './cifar-10')"
   ]
  },
  {
   "cell_type": "code",
   "execution_count": null,
   "id": "ab373472-ff4c-457d-b2a2-3f1b85849501",
   "metadata": {
    "scrolled": true,
    "tags": []
   },
   "outputs": [],
   "source": [
    "test_dic"
   ]
  },
  {
   "cell_type": "code",
   "execution_count": null,
   "id": "0a4b86d2-039f-4e67-a8b5-ef41941cdd31",
   "metadata": {},
   "outputs": [],
   "source": [
    "test_data = test_dic['data']\n",
    "test_data = test_data.reshape((10000, 3, 32, 32))\n"
   ]
  },
  {
   "cell_type": "code",
   "execution_count": null,
   "id": "59763316-6cc8-4614-a676-51d956a8a58f",
   "metadata": {},
   "outputs": [],
   "source": [
    "test_data.shape"
   ]
  },
  {
   "cell_type": "code",
   "execution_count": null,
   "id": "cbe21e02-394f-4b97-b091-8fe1b1f0e577",
   "metadata": {},
   "outputs": [],
   "source": [
    "test_label = test_dic['labels']"
   ]
  },
  {
   "cell_type": "code",
   "execution_count": null,
   "id": "580755d3-cb4d-4460-85d9-8e941fce0a29",
   "metadata": {},
   "outputs": [],
   "source": [
    "len(test_label)"
   ]
  },
  {
   "cell_type": "code",
   "execution_count": null,
   "id": "4e22b51d-4855-4db2-b8a6-8247640e8741",
   "metadata": {},
   "outputs": [],
   "source": [
    "test_data = test_dic['data']\n",
    "test_data = test_data.reshape((10000, 3, 32, 32))\n",
    "test_data = test_data.transpose((0, 2, 3, 1))\n",
    "test_label = test_dic['labels']"
   ]
  },
  {
   "cell_type": "code",
   "execution_count": null,
   "id": "b0ffb86c-02cd-4c2a-8b33-150e1ca45fac",
   "metadata": {},
   "outputs": [],
   "source": []
  },
  {
   "cell_type": "code",
   "execution_count": null,
   "id": "995836ef-cd93-4e8f-847e-aced3141e1e6",
   "metadata": {},
   "outputs": [],
   "source": []
  },
  {
   "cell_type": "code",
   "execution_count": null,
   "id": "637d343c-7d2b-4ab4-9cb3-cd379d6e99f9",
   "metadata": {},
   "outputs": [],
   "source": [
    "\n",
    "\n",
    "def load_mnist(scale=True, usps=False, all_use=False):\n",
    "    mnist_data = loadmat('./datasets/mnist_data.mat')\n",
    "    if scale:\n",
    "        mnist_train = np.reshape(mnist_data['train_32'], (55000, 32, 32, 1))\n",
    "        mnist_test = np.reshape(mnist_data['test_32'], (10000, 32, 32, 1))\n",
    "        mnist_train = np.concatenate([mnist_train, mnist_train, mnist_train], 3)\n",
    "        mnist_test = np.concatenate([mnist_test, mnist_test, mnist_test], 3)\n",
    "        mnist_train = mnist_train.transpose(0, 3, 1, 2).astype(np.float32)\n",
    "        mnist_test = mnist_test.transpose(0, 3, 1, 2).astype(np.float32)\n",
    "        mnist_labels_train = mnist_data['label_train']\n",
    "        mnist_labels_test = mnist_data['label_test']\n",
    "    else:\n",
    "        mnist_train = mnist_data['train_28']\n",
    "        mnist_test =  mnist_data['test_28']\n",
    "        mnist_labels_train = mnist_data['label_train']\n",
    "        mnist_labels_test = mnist_data['label_test']\n",
    "        mnist_train = mnist_train.astype(np.float32)\n",
    "        mnist_test = mnist_test.astype(np.float32)\n",
    "        mnist_train = mnist_train.transpose((0, 3, 1, 2))\n",
    "        mnist_test = mnist_test.transpose((0, 3, 1, 2))\n",
    "        \n",
    "    train_label = np.argmax(mnist_labels_train, axis=1)\n",
    "    inds = np.random.permutation(mnist_train.shape[0])\n",
    "    mnist_train = mnist_train[inds]\n",
    "    train_label = list(train_label[inds])\n",
    "    test_label = list(np.argmax(mnist_labels_test, axis=1))\n",
    "    \n",
    "    return mnist_train, train_label, mnist_test, test_label"
   ]
  },
  {
   "cell_type": "code",
   "execution_count": null,
   "id": "1eafd60f-e129-445c-8296-3b26e0c6a1cd",
   "metadata": {},
   "outputs": [],
   "source": [
    "mnist_train, train_label, mnist_test, test_label = load_mnist(scale=True, usps=False, all_use=False)"
   ]
  },
  {
   "cell_type": "code",
   "execution_count": null,
   "id": "cc400162-4175-40bf-88e8-ec071c32d9a2",
   "metadata": {},
   "outputs": [],
   "source": [
    "mnist_train.shape"
   ]
  },
  {
   "cell_type": "code",
   "execution_count": null,
   "id": "44157ec1-a67d-4c9f-b9d5-fac7d6ee48f9",
   "metadata": {},
   "outputs": [],
   "source": [
    "mnist_test.shape"
   ]
  },
  {
   "cell_type": "code",
   "execution_count": null,
   "id": "f81073b6-35c3-4104-b548-c25c94e5dd29",
   "metadata": {},
   "outputs": [],
   "source": []
  },
  {
   "cell_type": "code",
   "execution_count": null,
   "id": "48205d45-a8fd-4337-9553-a737c968622b",
   "metadata": {},
   "outputs": [],
   "source": []
  },
  {
   "cell_type": "code",
   "execution_count": 6,
   "id": "c8dcd824-f0da-47dd-8ed3-997e4ac833ee",
   "metadata": {},
   "outputs": [
    {
     "name": "stdout",
     "output_type": "stream",
     "text": [
      "55000\n",
      "(55000, 32, 32, 3)\n",
      "0.6352727272727273\n"
     ]
    }
   ],
   "source": [
    "## **svhnmnist label checking**\n",
    "\n",
    "mnist_data = loadmat('./datasets/mnist_data.mat')\n",
    "mnist_train = np.reshape(mnist_data['train_32'], (55000, 32, 32, 1))\n",
    "mnist_train = np.concatenate([mnist_train, mnist_train, mnist_train], 3)\n",
    "train_data = mnist_train.transpose(0, 1, 2, 3).astype(np.float32)\n",
    "\n",
    "mnist_labels_train = mnist_data['label_train']\n",
    "train_label = list(np.argmax(mnist_labels_train, axis=1))\n",
    "\n",
    "print(len(train_label))\n",
    "print(train_data.shape)\n",
    "\n",
    "noise_label = json.load(open('All_jsons/uspsmnist.json', \"r\"))\n",
    "\n",
    "print(np.sum((np.array(train_label) == np.array(noise_label))*1)/len(noise_label))"
   ]
  },
  {
   "cell_type": "code",
   "execution_count": 34,
   "id": "384d3a97-1b86-46c2-94e1-810a017c80ef",
   "metadata": {},
   "outputs": [
    {
     "data": {
      "text/plain": [
       "0.6028181818181818"
      ]
     },
     "execution_count": 34,
     "metadata": {},
     "output_type": "execute_result"
    }
   ],
   "source": []
  },
  {
   "cell_type": "code",
   "execution_count": 5,
   "id": "4a147ceb-8318-4e15-813d-d5842c5a394c",
   "metadata": {},
   "outputs": [
    {
     "name": "stdout",
     "output_type": "stream",
     "text": [
      "0.9195367266077416\n"
     ]
    }
   ],
   "source": [
    "# MNIST-USPS label checking\n",
    "\n",
    "f = gzip.open('datasets/usps_28x28.pkl', 'rb')\n",
    "data_set = pickle.load(f, encoding='ISO-8859-1')\n",
    "f.close()\n",
    "img_train = data_set[0][0]\n",
    "label_train = data_set[0][1]\n",
    "inds = np.arange(0, img_train.shape[0])\n",
    "img_train = img_train[inds][:6562]\n",
    "\n",
    "test_label = label_train[inds][:6562]\n",
    "img_train = img_train * 255\n",
    "test_data = img_train.reshape((img_train.shape[0], 1, 28, 28))\n",
    "test_data = test_data.transpose(0, 2, 3, 1).astype(np.float32)\n",
    "test_data = (np.concatenate([test_data, test_data, test_data], 3)).astype(np.uint8)\n",
    "\n",
    "\n",
    "\n",
    "noise_label = json.load(open('All_jsons/mnistusps_working.json', \"r\"))\n",
    "\n",
    "print(np.sum((np.array(test_label) == np.array(noise_label))*1)/len(noise_label))"
   ]
  },
  {
   "cell_type": "code",
   "execution_count": 33,
   "id": "eb664e39-6578-4cb2-8657-80c1ae1ce0a1",
   "metadata": {},
   "outputs": [
    {
     "data": {
      "text/plain": [
       "(6562, 28, 28, 3)"
      ]
     },
     "execution_count": 33,
     "metadata": {},
     "output_type": "execute_result"
    }
   ],
   "source": [
    "test_data.shape"
   ]
  },
  {
   "cell_type": "code",
   "execution_count": 35,
   "id": "517a3c29-7ed6-4c40-8c26-b68614cf83f7",
   "metadata": {},
   "outputs": [
    {
     "data": {
      "text/plain": [
       "<matplotlib.image.AxesImage at 0x7f69825517f0>"
      ]
     },
     "execution_count": 35,
     "metadata": {},
     "output_type": "execute_result"
    },
    {
     "data": {
      "image/png": "[encoded data removed]",
      "text/plain": [
       "<Figure size 432x288 with 1 Axes>"
      ]
     },
     "metadata": {
      "needs_background": "light"
     },
     "output_type": "display_data"
    }
   ],
   "source": [
    "plt.imshow((test_data[20,:,:,:]), 'gray')"
   ]
  },
  {
   "cell_type": "code",
   "execution_count": null,
   "id": "8e43cfae-a308-4899-a064-35c1300514b5",
   "metadata": {},
   "outputs": [],
   "source": []
  }
 ],
 "metadata": {
  "kernelspec": {
   "display_name": "vm_torch",
   "language": "python",
   "name": "vm_torch"
  },
  "language_info": {
   "codemirror_mode": {
    "name": "ipython",
    "version": 3
   },
   "file_extension": ".py",
   "mimetype": "text/x-python",
   "name": "python",
   "nbconvert_exporter": "python",
   "pygments_lexer": "ipython3",
   "version": "3.6.9"
  }
 },
 "nbformat": 4,
 "nbformat_minor": 5
}
