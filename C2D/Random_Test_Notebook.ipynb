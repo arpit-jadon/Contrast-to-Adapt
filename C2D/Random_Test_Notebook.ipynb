{
 "cells": [
  {
   "cell_type": "code",
   "execution_count": 1,
   "id": "fde28d59-a785-434b-97cf-5230e040b09e",
   "metadata": {},
   "outputs": [],
   "source": [
    "import json\n",
    "import pickle\n",
    "from scipy.io import loadmat\n",
    "import numpy as np"
   ]
  },
  {
   "cell_type": "code",
   "execution_count": 2,
   "id": "b1483027-0dbf-47e8-a993-a6ac18a0368d",
   "metadata": {},
   "outputs": [],
   "source": [
    "with open('./cifar-10/0.80_sym.json') as f:\n",
    "  data = json.load(f)"
   ]
  },
  {
   "cell_type": "code",
   "execution_count": 3,
   "id": "942f1440-6a45-42a3-8c3a-9c41a922344e",
   "metadata": {},
   "outputs": [
    {
     "data": {
      "text/plain": [
       "50000"
      ]
     },
     "execution_count": 3,
     "metadata": {},
     "output_type": "execute_result"
    }
   ],
   "source": [
    "len(data)"
   ]
  },
  {
   "cell_type": "code",
   "execution_count": 4,
   "id": "5f2e4077-0ed6-4be1-abbd-2f302da5993a",
   "metadata": {
    "scrolled": true,
    "tags": []
   },
   "outputs": [],
   "source": [
    "data_extra = np.random.randint(low=0, high=10, size=5000).tolist()"
   ]
  },
  {
   "cell_type": "code",
   "execution_count": 8,
   "id": "268cdbf0-d2f5-49b1-b2e6-741345b3a3d1",
   "metadata": {},
   "outputs": [],
   "source": [
    "new_data = data + data_extra"
   ]
  },
  {
   "cell_type": "code",
   "execution_count": 9,
   "id": "04ed1b5f-50a7-4f17-a079-32117afe5d62",
   "metadata": {},
   "outputs": [
    {
     "data": {
      "text/plain": [
       "55000"
      ]
     },
     "execution_count": 9,
     "metadata": {},
     "output_type": "execute_result"
    }
   ],
   "source": [
    "len(new_data)"
   ]
  },
  {
   "cell_type": "code",
   "execution_count": 10,
   "id": "3d28be29-a9ea-4a3f-8bc7-c71c6debf00d",
   "metadata": {},
   "outputs": [],
   "source": [
    "with open('data.json', 'w') as f:\n",
    "    json.dump(new_data, f)"
   ]
  },
  {
   "cell_type": "code",
   "execution_count": null,
   "id": "5f9d3bdd-4429-4289-b0c0-557295027490",
   "metadata": {},
   "outputs": [],
   "source": [
    "def unpickle(file):\n",
    "    import _pickle as cPickle\n",
    "    with open(file, 'rb') as fo:\n",
    "        dict = cPickle.load(fo, encoding='latin1')\n",
    "    return dict\n"
   ]
  },
  {
   "cell_type": "code",
   "execution_count": null,
   "id": "ca94c095-3018-48b2-8188-3a5c5acee71b",
   "metadata": {},
   "outputs": [],
   "source": [
    "test_dic = unpickle('%s/test_batch' % './cifar-10')"
   ]
  },
  {
   "cell_type": "code",
   "execution_count": null,
   "id": "ab373472-ff4c-457d-b2a2-3f1b85849501",
   "metadata": {
    "scrolled": true,
    "tags": []
   },
   "outputs": [],
   "source": [
    "test_dic"
   ]
  },
  {
   "cell_type": "code",
   "execution_count": null,
   "id": "0a4b86d2-039f-4e67-a8b5-ef41941cdd31",
   "metadata": {},
   "outputs": [],
   "source": [
    "test_data = test_dic['data']\n",
    "test_data = test_data.reshape((10000, 3, 32, 32))\n"
   ]
  },
  {
   "cell_type": "code",
   "execution_count": null,
   "id": "59763316-6cc8-4614-a676-51d956a8a58f",
   "metadata": {},
   "outputs": [],
   "source": [
    "test_data.shape"
   ]
  },
  {
   "cell_type": "code",
   "execution_count": null,
   "id": "cbe21e02-394f-4b97-b091-8fe1b1f0e577",
   "metadata": {},
   "outputs": [],
   "source": [
    "test_label = test_dic['labels']"
   ]
  },
  {
   "cell_type": "code",
   "execution_count": null,
   "id": "580755d3-cb4d-4460-85d9-8e941fce0a29",
   "metadata": {},
   "outputs": [],
   "source": [
    "len(test_label)"
   ]
  },
  {
   "cell_type": "code",
   "execution_count": null,
   "id": "4e22b51d-4855-4db2-b8a6-8247640e8741",
   "metadata": {},
   "outputs": [],
   "source": [
    "test_data = test_dic['data']\n",
    "test_data = test_data.reshape((10000, 3, 32, 32))\n",
    "test_data = test_data.transpose((0, 2, 3, 1))\n",
    "test_label = test_dic['labels']"
   ]
  },
  {
   "cell_type": "code",
   "execution_count": null,
   "id": "b0ffb86c-02cd-4c2a-8b33-150e1ca45fac",
   "metadata": {},
   "outputs": [],
   "source": []
  },
  {
   "cell_type": "code",
   "execution_count": null,
   "id": "995836ef-cd93-4e8f-847e-aced3141e1e6",
   "metadata": {},
   "outputs": [],
   "source": []
  },
  {
   "cell_type": "code",
   "execution_count": null,
   "id": "637d343c-7d2b-4ab4-9cb3-cd379d6e99f9",
   "metadata": {},
   "outputs": [],
   "source": [
    "\n",
    "\n",
    "def load_mnist(scale=True, usps=False, all_use=False):\n",
    "    mnist_data = loadmat('./datasets/mnist_data.mat')\n",
    "    if scale:\n",
    "        mnist_train = np.reshape(mnist_data['train_32'], (55000, 32, 32, 1))\n",
    "        mnist_test = np.reshape(mnist_data['test_32'], (10000, 32, 32, 1))\n",
    "        mnist_train = np.concatenate([mnist_train, mnist_train, mnist_train], 3)\n",
    "        mnist_test = np.concatenate([mnist_test, mnist_test, mnist_test], 3)\n",
    "        mnist_train = mnist_train.transpose(0, 3, 1, 2).astype(np.float32)\n",
    "        mnist_test = mnist_test.transpose(0, 3, 1, 2).astype(np.float32)\n",
    "        mnist_labels_train = mnist_data['label_train']\n",
    "        mnist_labels_test = mnist_data['label_test']\n",
    "    else:\n",
    "        mnist_train = mnist_data['train_28']\n",
    "        mnist_test =  mnist_data['test_28']\n",
    "        mnist_labels_train = mnist_data['label_train']\n",
    "        mnist_labels_test = mnist_data['label_test']\n",
    "        mnist_train = mnist_train.astype(np.float32)\n",
    "        mnist_test = mnist_test.astype(np.float32)\n",
    "        mnist_train = mnist_train.transpose((0, 3, 1, 2))\n",
    "        mnist_test = mnist_test.transpose((0, 3, 1, 2))\n",
    "        \n",
    "    train_label = np.argmax(mnist_labels_train, axis=1)\n",
    "    inds = np.random.permutation(mnist_train.shape[0])\n",
    "    mnist_train = mnist_train[inds]\n",
    "    train_label = list(train_label[inds])\n",
    "    test_label = list(np.argmax(mnist_labels_test, axis=1))\n",
    "    \n",
    "    return mnist_train, train_label, mnist_test, test_label"
   ]
  },
  {
   "cell_type": "code",
   "execution_count": null,
   "id": "1eafd60f-e129-445c-8296-3b26e0c6a1cd",
   "metadata": {},
   "outputs": [],
   "source": [
    "mnist_train, train_label, mnist_test, test_label = load_mnist(scale=True, usps=False, all_use=False)"
   ]
  },
  {
   "cell_type": "code",
   "execution_count": null,
   "id": "cc400162-4175-40bf-88e8-ec071c32d9a2",
   "metadata": {},
   "outputs": [],
   "source": [
    "mnist_train.shape"
   ]
  },
  {
   "cell_type": "code",
   "execution_count": null,
   "id": "44157ec1-a67d-4c9f-b9d5-fac7d6ee48f9",
   "metadata": {},
   "outputs": [],
   "source": [
    "mnist_test.shape"
   ]
  },
  {
   "cell_type": "code",
   "execution_count": null,
   "id": "f81073b6-35c3-4104-b548-c25c94e5dd29",
   "metadata": {},
   "outputs": [],
   "source": []
  }
 ],
 "metadata": {
  "kernelspec": {
   "display_name": "vm_torch",
   "language": "python",
   "name": "vm_torch"
  },
  "language_info": {
   "codemirror_mode": {
    "name": "ipython",
    "version": 3
   },
   "file_extension": ".py",
   "mimetype": "text/x-python",
   "name": "python",
   "nbconvert_exporter": "python",
   "pygments_lexer": "ipython3",
   "version": "3.6.9"
  }
 },
 "nbformat": 4,
 "nbformat_minor": 5
}
