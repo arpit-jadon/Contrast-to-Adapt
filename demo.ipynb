{
 "metadata": {
  "language_info": {
   "codemirror_mode": {
    "name": "ipython",
    "version": 3
   },
   "file_extension": ".py",
   "mimetype": "text/x-python",
   "name": "python",
   "nbconvert_exporter": "python",
   "pygments_lexer": "ipython3",
   "version": "3.6.8"
  },
  "orig_nbformat": 4,
  "kernelspec": {
   "name": "python3",
   "display_name": "Python 3.6.8 64-bit ('pytorch': virtualenvwrapper)"
  },
  "interpreter": {
   "hash": "39c32cf5604986400b1cbafd7518d951df7ae3ce292cc81e38a02c43f6c4706e"
  }
 },
 "nbformat": 4,
 "nbformat_minor": 2,
 "cells": [
  {
   "cell_type": "code",
   "execution_count": 1,
   "metadata": {},
   "outputs": [],
   "source": [
    "import torch\n",
    "import torch.optim as optim\n",
    "import torch.nn as nn\n",
    "import argparse\n",
    "import os\n",
    "import matplotlib.pyplot as plt\n",
    "\n",
    "from datasets.dataset_read import dataset_read\n",
    "from model.build_gen import CustLeNet"
   ]
  },
  {
   "cell_type": "code",
   "execution_count": 2,
   "metadata": {},
   "outputs": [],
   "source": [
    "target = 'usps'\n",
    "source = 'mnist'\n",
    "\n",
    "if target == 'svhn':\n",
    "    scale = True\n",
    "else:\n",
    "    scale = False\n",
    "\n",
    "batch_size = 128\n",
    "all_use = 'no'"
   ]
  },
  {
   "cell_type": "code",
   "execution_count": 3,
   "metadata": {},
   "outputs": [],
   "source": [
    "train_loader, val_loader = dataset_read(target, source, batch_size, scale, all_use)"
   ]
  },
  {
   "cell_type": "code",
   "execution_count": 4,
   "metadata": {},
   "outputs": [],
   "source": [
    "a = iter(train_loader)"
   ]
  },
  {
   "cell_type": "code",
   "execution_count": 5,
   "metadata": {},
   "outputs": [],
   "source": [
    "imgs, _ = next(a)"
   ]
  },
  {
   "cell_type": "code",
   "execution_count": 6,
   "metadata": {},
   "outputs": [],
   "source": [
    "img = imgs[0]"
   ]
  },
  {
   "cell_type": "code",
   "execution_count": 7,
   "metadata": {},
   "outputs": [],
   "source": [
    "from torchvision.utils import save_image, make_grid"
   ]
  },
  {
   "cell_type": "code",
   "execution_count": 8,
   "metadata": {},
   "outputs": [],
   "source": [
    "save_image(img, 'img.jpg') # may be scaling is a problem\n",
    "# make_grid(imgs, 'img.jpg')"
   ]
  },
  {
   "cell_type": "code",
   "execution_count": 9,
   "metadata": {},
   "outputs": [
    {
     "output_type": "stream",
     "name": "stdout",
     "text": [
      "source=mnist \t target=usps\n"
     ]
    }
   ],
   "source": [
    "device = torch.device(\"cuda\")\n",
    "\n",
    "model = CustLeNet(source, target).cuda()"
   ]
  },
  {
   "cell_type": "code",
   "execution_count": 10,
   "metadata": {},
   "outputs": [],
   "source": [
    "zs = model(imgs.cuda())\n",
    "pred = zs.max(1, keepdim=True)[1]"
   ]
  },
  {
   "cell_type": "code",
   "execution_count": 11,
   "metadata": {},
   "outputs": [],
   "source": [
    "folder = str(pred[0].cpu()[0].numpy())"
   ]
  },
  {
   "cell_type": "code",
   "execution_count": 12,
   "metadata": {},
   "outputs": [],
   "source": [
    "import numpy as np\n",
    "import matplotlib.pyplot as plt\n",
    "\n",
    "import torchvision.transforms.functional as F\n",
    "\n",
    "\n",
    "plt.rcParams[\"savefig.bbox\"] = 'tight'\n",
    "\n",
    "\n",
    "def show(imgs):\n",
    "    if not isinstance(imgs, list):\n",
    "        imgs = [imgs]\n",
    "    fix, axs = plt.subplots(ncols=len(imgs), squeeze=False)\n",
    "    for i, img in enumerate(imgs):\n",
    "        img = img.detach()\n",
    "        img = F.to_pil_image(img)\n",
    "        axs[0, i].imshow(np.asarray(img))\n",
    "        axs[0, i].set(xticklabels=[], yticklabels=[], xticks=[], yticks=[])"
   ]
  },
  {
   "cell_type": "code",
   "execution_count": 13,
   "metadata": {},
   "outputs": [
    {
     "output_type": "display_data",
     "data": {
      "text/plain": "<Figure size 432x288 with 1 Axes>",
      "image/svg+xml": "<?xml version=\"1.0\" encoding=\"utf-8\" standalone=\"no\"?>\n<!DOCTYPE svg PUBLIC \"-//W3C//DTD SVG 1.1//EN\"\n  \"http://www.w3.org/Graphics/SVG/1.1/DTD/svg11.dtd\">\n<!-- Created with matplotlib (https://matplotlib.org/) -->\n<svg height=\"235.34pt\" version=\"1.1\" viewBox=\"0 0 235.34 235.34\" width=\"235.34pt\" xmlns=\"http://www.w3.org/2000/svg\" xmlns:xlink=\"http://www.w3.org/1999/xlink\">\n <defs>\n  <style type=\"text/css\">\n*{stroke-linecap:butt;stroke-linejoin:round;}\n  </style>\n </defs>\n <g id=\"figure_1\">\n  <g id=\"patch_1\">\n   <path d=\"M 0 235.34 \nL 235.34 235.34 \nL 235.34 0 \nL 0 0 \nz\n\" style=\"fill:none;\"/>\n  </g>\n  <g id=\"axes_1\">\n   <g id=\"patch_2\">\n    <path d=\"M 10.7 224.64 \nL 228.14 224.64 \nL 228.14 7.2 \nL 10.7 7.2 \nz\n\" style=\"fill:#ffffff;\"/>\n   </g>\n   <g clip-path=\"url(#pf285420d8f)\">\n    <image height=\"218\" id=\"image0005a07d81\" transform=\"scale(1 -1)translate(0 -218)\" width=\"218\" x=\"10.7\" xlink:href=\"data:image/png;base64,\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\" y=\"-6.64\"/>\n   </g>\n   <g id=\"matplotlib.axis_1\"/>\n   <g id=\"matplotlib.axis_2\"/>\n   <g id=\"patch_3\">\n    <path d=\"M 10.7 224.64 \nL 10.7 7.2 \n\" style=\"fill:none;stroke:#000000;stroke-linecap:square;stroke-linejoin:miter;stroke-width:0.8;\"/>\n   </g>\n   <g id=\"patch_4\">\n    <path d=\"M 228.14 224.64 \nL 228.14 7.2 \n\" style=\"fill:none;stroke:#000000;stroke-linecap:square;stroke-linejoin:miter;stroke-width:0.8;\"/>\n   </g>\n   <g id=\"patch_5\">\n    <path d=\"M 10.7 224.64 \nL 228.14 224.64 \n\" style=\"fill:none;stroke:#000000;stroke-linecap:square;stroke-linejoin:miter;stroke-width:0.8;\"/>\n   </g>\n   <g id=\"patch_6\">\n    <path d=\"M 10.7 7.2 \nL 228.14 7.2 \n\" style=\"fill:none;stroke:#000000;stroke-linecap:square;stroke-linejoin:miter;stroke-width:0.8;\"/>\n   </g>\n  </g>\n </g>\n <defs>\n  <clipPath id=\"pf285420d8f\">\n   <rect height=\"217.44\" width=\"217.44\" x=\"10.7\" y=\"7.2\"/>\n  </clipPath>\n </defs>\n</svg>\n",
      "image/png": "[encoded data removed]"
     },
     "metadata": {}
    }
   ],
   "source": [
    "show(imgs[0])"
   ]
  },
  {
   "cell_type": "code",
   "execution_count": 20,
   "metadata": {},
   "outputs": [],
   "source": [
    "from datetime import datetime\n",
    "\n",
    "now = datetime.now()\n",
    "\n",
    "n = now.strftime(\"%H_%M_%S\")\n",
    "save_image(img, folder+'/'+n+'.png') # may be scaling is a problem"
   ]
  }
 ]
}